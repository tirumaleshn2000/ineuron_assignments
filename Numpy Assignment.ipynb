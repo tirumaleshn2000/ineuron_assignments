{
 "cells": [
  {
   "cell_type": "markdown",
   "metadata": {},
   "source": [
    "Write a function to find moving average in an array over a window:\n",
    "Test it over [3, 5, 7, 2, 8, 10, 11, 65, 72, 81, 99, 100, 150] and window of 3."
   ]
  },
  {
   "cell_type": "code",
   "execution_count": 1,
   "metadata": {},
   "outputs": [],
   "source": [
    "import numpy as np"
   ]
  },
  {
   "cell_type": "code",
   "execution_count": 15,
   "metadata": {},
   "outputs": [],
   "source": [
    "def function(inp_,k):\n",
    "    inp=inp_\n",
    "    y_values=[]\n",
    "    n=len(inp)\n",
    "    for i in inp:\n",
    "        ans=np.sum(inp[0:k])/k\n",
    "        y_values.append(ans)\n",
    "        inp.remove(i)\n",
    "    return [y_values,n-k+1]\n",
    "result=function([3, 5, 7, 2, 8, 10, 11, 65, 72, 81, 99, 100, 150],3)"
   ]
  },
  {
   "cell_type": "code",
   "execution_count": 16,
   "metadata": {},
   "outputs": [
    {
     "name": "stdout",
     "output_type": "stream",
     "text": [
      "Moving average in a array :  [5.0, 4.666666666666667, 5.0, 5.666666666666667, 5.666666666666667, 5.666666666666667, 5.666666666666667]\n",
      "Moving average sequence has :  11\n"
     ]
    }
   ],
   "source": [
    "print('Moving average in a array : ',result[0])\n",
    "print('Moving average sequence has : ',result[1])"
   ]
  }
 ],
 "metadata": {
  "kernelspec": {
   "display_name": "Python 3",
   "language": "python",
   "name": "python3"
  },
  "language_info": {
   "codemirror_mode": {
    "name": "ipython",
    "version": 3
   },
   "file_extension": ".py",
   "mimetype": "text/x-python",
   "name": "python",
   "nbconvert_exporter": "python",
   "pygments_lexer": "ipython3",
   "version": "3.8.5"
  }
 },
 "nbformat": 4,
 "nbformat_minor": 4
}
