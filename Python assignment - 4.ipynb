{
 "cells": [
  {
   "cell_type": "markdown",
   "metadata": {},
   "source": [
    "1.1 Write a Python Program(with class concepts) to find the area of the triangle using the below\n",
    "formula.\n",
    "area = (s*(s-a)*(s-b)*(s-c)) ** 0.5\n",
    "Function to take the length of the sides of triangle from user should be defined in the parent\n",
    "class and function to calculate the area should be defined in subclass.\n",
    "\n",
    "1.2 Write a function filter_long_words() that takes a list of words and an integer n and returns\n",
    "the list of words that are longer than n.\n",
    "\n",
    "2.1 Write a Python program using function concept that maps list of words into a list of integers\n",
    "representing the lengths of the corresponding words.\n",
    "Hint: If a list [ ab,cde,erty] is passed on to the python function output should come as [2,3,4]\n",
    "Here 2,3 and 4 are the lengths of the words in the list.\n",
    "\n",
    "2.2 Write a Python function which takes a character (i.e. a string of length 1) and returns True if\n",
    "it is a vowel, False otherwise."
   ]
  },
  {
   "cell_type": "markdown",
   "metadata": {},
   "source": [
    "1.1"
   ]
  },
  {
   "cell_type": "code",
   "execution_count": 16,
   "metadata": {},
   "outputs": [
    {
     "name": "stdout",
     "output_type": "stream",
     "text": [
      "Enter the value of \"a\" : 4\n",
      "Enter the value of \"b\" : 6\n",
      "Enter the value of \"c\" : 3\n",
      "5.332682251925386\n"
     ]
    }
   ],
   "source": [
    "class main_class:\n",
    "    def sides(self):\n",
    "        a_val=input('Enter the value of \"a\" : ')\n",
    "        try:\n",
    "            a_val=int(a_val)\n",
    "            b_val=input('Enter the value of \"b\" : ')\n",
    "            try:\n",
    "                b_val=int(b_val)\n",
    "                c_val=input('Enter the value of \"c\" : ')\n",
    "                try:\n",
    "                    c_val=int(c_val)\n",
    "                    return [a_val,b_val,c_val]\n",
    "                except:\n",
    "                    print('Please enter the int value.')\n",
    "            except:\n",
    "                print('Please enter the int value')\n",
    "        except:\n",
    "            print('Please enter the int value.')\n",
    "    class sub_class:\n",
    "        def calculation(self):\n",
    "            side_vals=ob_main.sides()\n",
    "            a=side_vals[0]\n",
    "            b=side_vals[1]\n",
    "            c=side_vals[2]\n",
    "            s=(a+b+c)/2\n",
    "            area = (s*(s-a)*(s-b)*(s-c)) ** 0.5\n",
    "            return area\n",
    "ob_main=main_class()\n",
    "ob_sub=ob_main.sub_class()\n",
    "print(ob_sub.calculation())"
   ]
  },
  {
   "cell_type": "markdown",
   "metadata": {},
   "source": [
    "1.2"
   ]
  },
  {
   "cell_type": "code",
   "execution_count": 25,
   "metadata": {},
   "outputs": [],
   "source": [
    "def filter_long_words():\n",
    "    n_val=input('Enter the integer value of \"n\" : ')\n",
    "    words=[]\n",
    "    try:\n",
    "        n_val=int(n_val)\n",
    "        while 1<2:\n",
    "            word=input('Enter the word (or) enter \"quit\" to exit: ')\n",
    "            if len(word)>n_val:\n",
    "                words.append(word)\n",
    "            if word=='quit':\n",
    "                print('Done')\n",
    "                return words\n",
    "                break\n",
    "    except:\n",
    "        print('Please enter the integer value.')\n",
    "filter_long_words()"
   ]
  },
  {
   "cell_type": "markdown",
   "metadata": {},
   "source": [
    "2.1"
   ]
  },
  {
   "cell_type": "code",
   "execution_count": 32,
   "metadata": {},
   "outputs": [],
   "source": [
    "def mapping(words):\n",
    "    words_len=[]\n",
    "    for i in words:\n",
    "        words_len.append(len(i))\n",
    "    return words_len\n",
    "\n",
    "words=[]\n",
    "while 1<2:\n",
    "    word=input('Enter the word (or) enter \"quit\" to exit: ')\n",
    "    if word=='quit':\n",
    "        print('Here is the length of values in list')\n",
    "        break\n",
    "    else:\n",
    "        words.append(word)\n",
    "mapping(words)"
   ]
  },
  {
   "cell_type": "markdown",
   "metadata": {},
   "source": [
    "2.2"
   ]
  },
  {
   "cell_type": "code",
   "execution_count": 42,
   "metadata": {},
   "outputs": [
    {
     "name": "stdout",
     "output_type": "stream",
     "text": [
      "Please enter the character : i\n"
     ]
    },
    {
     "data": {
      "text/plain": [
       "True"
      ]
     },
     "execution_count": 42,
     "metadata": {},
     "output_type": "execute_result"
    }
   ],
   "source": [
    "def vowel_test(char):\n",
    "    vowels=['a','e','i','o','u']\n",
    "    if char in vowels:\n",
    "        return True\n",
    "    else:\n",
    "        return False\n",
    "char=input('Please enter the character : ')\n",
    "vowel_test(char)"
   ]
  }
 ],
 "metadata": {
  "kernelspec": {
   "display_name": "Python 3",
   "language": "python",
   "name": "python3"
  },
  "language_info": {
   "codemirror_mode": {
    "name": "ipython",
    "version": 3
   },
   "file_extension": ".py",
   "mimetype": "text/x-python",
   "name": "python",
   "nbconvert_exporter": "python",
   "pygments_lexer": "ipython3",
   "version": "3.8.5"
  }
 },
 "nbformat": 4,
 "nbformat_minor": 4
}
