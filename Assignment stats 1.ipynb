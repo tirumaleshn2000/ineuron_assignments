{
 "cells": [
  {
   "cell_type": "markdown",
   "metadata": {},
   "source": [
    "Calculate the mean, median, mode and standard deviation for the problem\n",
    "statements 1& 2.\n",
    "Problem Statement 1:\n",
    "The marks awarded for an assignment set for a Year 8 class of 20 students were as\n",
    "follows:\n",
    "6 7 5 7 7 8 7 6 9 7 4 10 6 8 8 9 5 6 4 8"
   ]
  },
  {
   "cell_type": "code",
   "execution_count": 214,
   "metadata": {},
   "outputs": [],
   "source": [
    "list_=[6 ,7 ,5 ,7 ,7 ,8 ,7 ,6 ,9 ,7 ,4 ,10 ,6 ,8 ,8 ,9 ,5 ,6 ,4, 8,10]"
   ]
  },
  {
   "cell_type": "code",
   "execution_count": 257,
   "metadata": {},
   "outputs": [],
   "source": [
    "def mean(list_):\n",
    "    return sum(list_)/len(list_)\n",
    "def median(list_):\n",
    "    sort_=sorted(list_)\n",
    "    if len(sort_)/2==0:\n",
    "        sum_=sort[int(len(list_)/2)]+sort[int(len(list_)/2)+1]\n",
    "        return sum_/2\n",
    "    else:\n",
    "        return sort[int(len(list_)/2)+1]\n",
    "def mode(list_):\n",
    "    uni_value=[]\n",
    "    for i in sort:\n",
    "        if i not in uni_value:\n",
    "            uni_value.append(i)\n",
    "    list_=sorted(list_)\n",
    "    frequencies={}\n",
    "    for i in list_:\n",
    "        if i in frequencies:\n",
    "            frequencies[i]=frequencies[i]+1\n",
    "        else:\n",
    "            frequencies[i]=1\n",
    "    values=frequencies.values()\n",
    "    return uni_value[list(values).index(max(values))]"
   ]
  },
  {
   "cell_type": "code",
   "execution_count": 258,
   "metadata": {},
   "outputs": [
    {
     "name": "stdout",
     "output_type": "stream",
     "text": [
      "Mean:  7.0\n",
      "Median:  7\n",
      "Mode:  7\n"
     ]
    }
   ],
   "source": [
    "print('Mean: ',mean(list_))\n",
    "print('Median: ',median(list_))\n",
    "print('Mode: ',mode(list_))"
   ]
  }
 ],
 "metadata": {
  "kernelspec": {
   "display_name": "Python 3",
   "language": "python",
   "name": "python3"
  },
  "language_info": {
   "codemirror_mode": {
    "name": "ipython",
    "version": 3
   },
   "file_extension": ".py",
   "mimetype": "text/x-python",
   "name": "python",
   "nbconvert_exporter": "python",
   "pygments_lexer": "ipython3",
   "version": "3.8.5"
  }
 },
 "nbformat": 4,
 "nbformat_minor": 4
}
