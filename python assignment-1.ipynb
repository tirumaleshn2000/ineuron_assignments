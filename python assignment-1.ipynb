{
 "cells": [
  {
   "cell_type": "code",
   "execution_count": 44,
   "metadata": {},
   "outputs": [
    {
     "name": "stdout",
     "output_type": "stream",
     "text": [
      "[2002, 2009, 2016, 2023, 2037, 2044, 2051, 2058, 2065, 2072, 2079, 2086, 2093, 2107, 2114, 2121, 2128, 2135, 2142, 2149, 2156, 2163, 2177, 2184, 2191, 2198, 2205, 2212, 2219, 2226, 2233, 2247, 2254, 2261, 2268, 2275, 2282, 2289, 2296, 2303, 2317, 2324, 2331, 2338, 2345, 2352, 2359, 2366, 2373, 2387, 2394, 2401, 2408, 2415, 2422, 2429, 2436, 2443, 2457, 2464, 2471, 2478, 2485, 2492, 2499, 2506, 2513, 2527, 2534, 2541, 2548, 2555, 2562, 2569, 2576, 2583, 2597, 2604, 2611, 2618, 2625, 2632, 2639, 2646, 2653, 2667, 2674, 2681, 2688, 2695, 2702, 2709, 2716, 2723, 2737, 2744, 2751, 2758, 2765, 2772, 2779, 2786, 2793, 2807, 2814, 2821, 2828, 2835, 2842, 2849, 2856, 2863, 2877, 2884, 2891, 2898, 2905, 2912, 2919, 2926, 2933, 2947, 2954, 2961, 2968, 2975, 2982, 2989, 2996, 3003, 3017, 3024, 3031, 3038, 3045, 3052, 3059, 3066, 3073, 3087, 3094, 3101, 3108, 3115, 3122, 3129, 3136, 3143, 3157, 3164, 3171, 3178, 3185, 3192, 3199]\n"
     ]
    }
   ],
   "source": [
    "list1=[]\n",
    "start=2000\n",
    "end=3200\n",
    "for i in range(2000,3200):\n",
    "    string=str(i)\n",
    "    last_num=string[-1]\n",
    "    rest_num=string[:-1]\n",
    "    num1=int(rest_num)-(int(last_num)*2)\n",
    "    string1=str(num1)\n",
    "    last_num1=string1[-1]\n",
    "    rest_num1=string1[:-1]\n",
    "    num2=int(rest_num1)-(int(last_num1)*2)\n",
    "    output=num2/7\n",
    "    if output-int(output)==0:\n",
    "        result1=i\n",
    "        string=str(result1)\n",
    "        num=int(string[-1])\n",
    "        if num!=0&num!=5:\n",
    "            list1.append(i)\n",
    "print(list1)"
   ]
  }
 ],
 "metadata": {
  "kernelspec": {
   "display_name": "Python 3",
   "language": "python",
   "name": "python3"
  },
  "language_info": {
   "codemirror_mode": {
    "name": "ipython",
    "version": 3
   },
   "file_extension": ".py",
   "mimetype": "text/x-python",
   "name": "python",
   "nbconvert_exporter": "python",
   "pygments_lexer": "ipython3",
   "version": "3.8.3"
  }
 },
 "nbformat": 4,
 "nbformat_minor": 4
}
