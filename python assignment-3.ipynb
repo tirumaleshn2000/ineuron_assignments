{
 "cells": [
  {
   "cell_type": "code",
   "execution_count": 49,
   "metadata": {},
   "outputs": [
    {
     "name": "stdout",
     "output_type": "stream",
     "text": [
      "Sum of elements:  36\n",
      "Highest value among elements:  8\n"
     ]
    }
   ],
   "source": [
    "#1.1 Write a Python Program to implement your own myreduce() function which works exactly like Python's built-in function reduce()\n",
    "list_=[1,4,5,2,7,2,8,7]\n",
    "def myreduce(list_):\n",
    "    sum_=0\n",
    "    highest_value=0\n",
    "    for i in range(0,len(list_)):\n",
    "        sum_=sum_+list_[i]\n",
    "        if list_[i]>highest_value:\n",
    "            highest_value=list_[i]\n",
    "        i=i+1\n",
    "    return [sum_,highest_value]\n",
    "print('Sum of elements: ',myreduce(list_)[0])\n",
    "print('Highest value among elements: ',myreduce(list_)[1])"
   ]
  },
  {
   "cell_type": "code",
   "execution_count": 107,
   "metadata": {},
   "outputs": [],
   "source": [
    "#1.2 Write a Python program to implement your own myfilter() function which works exactly like Python's built-in function filter()\n"
   ]
  },
  {
   "cell_type": "markdown",
   "metadata": {},
   "source": [
    "2. Implement List comprehensions to produce the following lists.\n",
    "Write List comprehensions to produce the following Lists\n",
    "['A', 'C', 'A', 'D', 'G', 'I', ’L’, ‘ D’]\n",
    "['x', 'xx', 'xxx', 'xxxx', 'y', 'yy', 'yyy', 'yyyy', 'z', 'zz', 'zzz', 'zzzz']\n",
    "['x', 'y', 'z', 'xx', 'yy', 'zz', 'xxx', 'yyy', 'zzz', 'xxxx', 'yyyy', 'zzzz']\n",
    "[[2], [3], [4], [3], [4], [5], [4], [5], [6]] \n",
    "[[2, 3, 4, 5], [3, 4, 5, 6],[4, 5, 6, 7], [5, 6, 7, 8]]\n",
    "[(1, 1), (2, 1), (3, 1), (1, 2), (2, 2), (3, 2), (1, 3), (2, 3), (3,3)]"
   ]
  },
  {
   "cell_type": "code",
   "execution_count": 106,
   "metadata": {},
   "outputs": [
    {
     "name": "stdout",
     "output_type": "stream",
     "text": [
      "['A', 'C', 'A', 'D', 'G', 'I', 'L', 'D']\n",
      "['x', 'xx', 'xxx', 'xxxx', 'y', 'yy', 'yyy', 'yyyy', 'z', 'zz', 'zzz', 'zzzz']\n",
      "['x', 'y', 'z', 'xx', 'yy', 'zz', 'xxx', 'yyy', 'zzz', 'xxxx', 'yyyy', 'zzzz']\n",
      "[[2], [3], [4], [3], [4], [5], [4], [5], [6]]\n",
      "[[2, 3, 4, 5], [3, 4, 5, 6], [4, 5, 6, 7], [5, 6, 7, 8]]\n",
      "[(1, 1), (1, 2), (1, 3), (2, 1), (2, 2), (2, 3), (3, 1), (3, 2), (3, 3)]\n"
     ]
    }
   ],
   "source": [
    "list1=[]\n",
    "for i in ['A', 'C', 'A', 'D', 'G', 'I', 'L', 'D']:\n",
    "    list1.append(i)\n",
    "list2=[]\n",
    "for i in ['x','y','z']:\n",
    "    for j in range(1,5):\n",
    "        list2.append(i*j)\n",
    "list3=[]\n",
    "list_=['x','y','z']\n",
    "for i in range(1,5):\n",
    "    for j in list_:\n",
    "        list3.append(i*j)\n",
    "list4=[]\n",
    "list_=[2,3,4]\n",
    "for i in list_:\n",
    "    list4.append([i])\n",
    "    list4.append([i+1])\n",
    "    list4.append([i+2])\n",
    "list5=[]\n",
    "val=1\n",
    "for i in range(1,5):\n",
    "    list_=[]\n",
    "    list_.append(val+1)\n",
    "    list_.append(val+2)\n",
    "    list_.append(val+3)\n",
    "    list_.append(val+4)\n",
    "    list5.append(list_)\n",
    "    val=val+1\n",
    "list6=[]\n",
    "val=1\n",
    "for i in [1,2,3]:\n",
    "    list_=[1,2,3]\n",
    "    for j in list_:\n",
    "        list6.append((i,j))\n",
    "\n",
    "for i in [list1,list2,list3,list4,list5,list6]:\n",
    "    print(i)"
   ]
  }
 ],
 "metadata": {
  "kernelspec": {
   "display_name": "Python 3",
   "language": "python",
   "name": "python3"
  },
  "language_info": {
   "codemirror_mode": {
    "name": "ipython",
    "version": 3
   },
   "file_extension": ".py",
   "mimetype": "text/x-python",
   "name": "python",
   "nbconvert_exporter": "python",
   "pygments_lexer": "ipython3",
   "version": "3.8.5"
  }
 },
 "nbformat": 4,
 "nbformat_minor": 4
}
